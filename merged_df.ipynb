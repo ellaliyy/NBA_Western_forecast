{
 "cells": [
  {
   "cell_type": "code",
   "execution_count": 1,
   "id": "2791c58d",
   "metadata": {},
   "outputs": [],
   "source": [
    "import pandas as pd\n",
    "import unicodedata"
   ]
  },
  {
   "cell_type": "code",
   "execution_count": 2,
   "id": "adbe6467",
   "metadata": {},
   "outputs": [],
   "source": [
    "merged_2324_with_coach = pd.read_csv('/Users/gongzichen/Desktop/school materials/yale/1st year/CPSC537/assignment/final project/merged_2324_with_coach.csv')"
   ]
  },
  {
   "cell_type": "code",
   "execution_count": 3,
   "id": "ae77ae13",
   "metadata": {},
   "outputs": [
    {
     "name": "stdout",
     "output_type": "stream",
     "text": [
      "              Player Position Height  Weight                  Team  Rk  Age  \\\n",
      "0    Zion Williamson       PF    6-6     284  New Orleans Pelicans   3   22   \n",
      "1     Brandon Ingram       SF    6-8     190  New Orleans Pelicans   2   25   \n",
      "2        CJ McCollum       SG    6-3     190  New Orleans Pelicans   1   31   \n",
      "3      Herbert Jones       PF    6-8     210  New Orleans Pelicans   5   24   \n",
      "4  Jonas Valančiūnas        C   6-11     265  New Orleans Pelicans   6   30   \n",
      "\n",
      "     MP   eFG%   TRB  AST   PTS  Coach-Playoff  Height_cm  \n",
      "0  33.0  0.615   7.0  4.6  26.0              1     198.12  \n",
      "1  34.2  0.522   5.5  5.8  24.7              1     203.20  \n",
      "2  35.3  0.515   4.4  5.7  20.9              1     190.50  \n",
      "3  29.6  0.525   4.1  2.5   9.8              1     203.20  \n",
      "4  24.9  0.570  10.2  1.8  14.1              1     210.82  \n"
     ]
    }
   ],
   "source": [
    "def height_to_cm(height):\n",
    "    # Split the height string into feet and inches\n",
    "    feet, inches = map(int, height.split('-'))\n",
    "    # Convert to centimeters\n",
    "    return feet * 30.48 + inches * 2.54\n",
    "\n",
    "merged_2324_with_coach['Height_cm'] = merged_2324_with_coach['Height'].apply(height_to_cm)\n",
    "print(merged_2324_with_coach.head())"
   ]
  },
  {
   "cell_type": "code",
   "execution_count": 4,
   "id": "23208256",
   "metadata": {},
   "outputs": [
    {
     "name": "stdout",
     "output_type": "stream",
     "text": [
      "              Player Position  Weight                  Team  Rk  Age    MP  \\\n",
      "0    Zion Williamson       PF     284  New Orleans Pelicans   3   22  33.0   \n",
      "1     Brandon Ingram       SF     190  New Orleans Pelicans   2   25  34.2   \n",
      "2        CJ McCollum       SG     190  New Orleans Pelicans   1   31  35.3   \n",
      "3      Herbert Jones       PF     210  New Orleans Pelicans   5   24  29.6   \n",
      "4  Jonas Valančiūnas        C     265  New Orleans Pelicans   6   30  24.9   \n",
      "\n",
      "    eFG%   TRB  AST   PTS  Coach-Playoff  Height  \n",
      "0  0.615   7.0  4.6  26.0              1  198.12  \n",
      "1  0.522   5.5  5.8  24.7              1  203.20  \n",
      "2  0.515   4.4  5.7  20.9              1  190.50  \n",
      "3  0.525   4.1  2.5   9.8              1  203.20  \n",
      "4  0.570  10.2  1.8  14.1              1  210.82  \n"
     ]
    }
   ],
   "source": [
    "def update_height_column(df):\n",
    "    # Drop the original 'Height' column\n",
    "    merged_2324_with_coach.drop(columns=['Height'], inplace=True)\n",
    "    \n",
    "    # Rename the 'Height_cm' column to 'Height'\n",
    "    merged_2324_with_coach.rename(columns={'Height_cm': 'Height'}, inplace=True)\n",
    "\n",
    "    return df\n",
    "\n",
    "merged_2324_with_coach = update_height_column(merged_2324_with_coach)\n",
    "merged_2324_with_coach['Height'] = merged_2324_with_coach['Height'].round(3)\n",
    "print(merged_2324_with_coach.head())"
   ]
  },
  {
   "cell_type": "code",
   "execution_count": 5,
   "id": "d095a088",
   "metadata": {},
   "outputs": [
    {
     "name": "stdout",
     "output_type": "stream",
     "text": [
      "              Player Position  Weight                  Team  Rk  Age    MP  \\\n",
      "0    Zion Williamson       PF     284  New Orleans Pelicans   3   22  33.0   \n",
      "1     Brandon Ingram       SF     190  New Orleans Pelicans   2   25  34.2   \n",
      "2        CJ McCollum       SG     190  New Orleans Pelicans   1   31  35.3   \n",
      "3      Herbert Jones       PF     210  New Orleans Pelicans   5   24  29.6   \n",
      "4  Jonas Valanciunas        C     265  New Orleans Pelicans   6   30  24.9   \n",
      "\n",
      "    eFG%   TRB  AST   PTS  Coach-Playoff  Height  \n",
      "0  0.615   7.0  4.6  26.0              1  198.12  \n",
      "1  0.522   5.5  5.8  24.7              1  203.20  \n",
      "2  0.515   4.4  5.7  20.9              1  190.50  \n",
      "3  0.525   4.1  2.5   9.8              1  203.20  \n",
      "4  0.570  10.2  1.8  14.1              1  210.82  \n"
     ]
    }
   ],
   "source": [
    "def remove_accents(input_str):\n",
    "    # Normalize the Unicode string and then encode it to ASCII ignoring non-ASCII characters\n",
    "    nfkd_form = unicodedata.normalize('NFKD', input_str)\n",
    "    only_ascii = nfkd_form.encode('ASCII', 'ignore')\n",
    "    return only_ascii.decode('ASCII')\n",
    "\n",
    "merged_2324_with_coach['Player'] = merged_2324_with_coach['Player'].apply(remove_accents)\n",
    "print(merged_2324_with_coach.head())"
   ]
  },
  {
   "cell_type": "code",
   "execution_count": 6,
   "id": "59c66f1b",
   "metadata": {},
   "outputs": [],
   "source": [
    "merged_2324_with_coach['Team'] = merged_2324_with_coach['Team'].replace('Los Angeles Clippers', 'LA Clippers')"
   ]
  },
  {
   "cell_type": "code",
   "execution_count": 7,
   "id": "8ae69aea",
   "metadata": {},
   "outputs": [],
   "source": [
    "merged_2324_with_coach.sort_values(by=['Team', 'Player', 'Rk'], ascending=[True, True, False], inplace=True)\n",
    "merged_2324_with_coach.drop_duplicates(subset=['Team', 'Player'], keep='first', inplace=True)"
   ]
  },
  {
   "cell_type": "code",
   "execution_count": 8,
   "id": "397120be",
   "metadata": {},
   "outputs": [],
   "source": [
    "merged_2324_with_coach.sort_values(by=['Team', 'Rk', 'MP'], ascending=[True, True, False], inplace=True)\n",
    "merged_2324_with_coach['New_Rk'] = merged_2324_with_coach.groupby('Team').cumcount() + 1"
   ]
  },
  {
   "cell_type": "code",
   "execution_count": 9,
   "id": "45139790",
   "metadata": {},
   "outputs": [],
   "source": [
    "merged_2324_with_coach.to_csv('merged_.csv', index=False)"
   ]
  },
  {
   "cell_type": "code",
   "execution_count": 2,
   "id": "e1b9b23f",
   "metadata": {},
   "outputs": [],
   "source": [
    "new_column_names = ['Season', 'Team', 'GP', 'W', 'L', 'WIN%', 'PTS', 'PTS_Rank',\n",
    "                    'Division_Rank', 'Division_Count', 'Conference_Rank',\n",
    "                    'Conference_Count', 'Playoff_Record', 'Finals_Result']"
   ]
  },
  {
   "cell_type": "code",
   "execution_count": 3,
   "id": "a37f09fd",
   "metadata": {
    "scrolled": false
   },
   "outputs": [],
   "source": [
    "blazers_rank = pd.read_csv('/Users/gongzichen/Desktop/school materials/yale/1st year/CPSC537/assignment/final project/ConferenceRank/blazers_rank.csv')\n",
    "clippers_rank = pd.read_csv('/Users/gongzichen/Desktop/school materials/yale/1st year/CPSC537/assignment/final project/ConferenceRank/clippers_rank.csv')\n",
    "grizzlies_rank = pd.read_csv('/Users/gongzichen/Desktop/school materials/yale/1st year/CPSC537/assignment/final project/ConferenceRank/grizzlies_rank.csv')\n",
    "jazz_rank = pd.read_csv('/Users/gongzichen/Desktop/school materials/yale/1st year/CPSC537/assignment/final project/ConferenceRank/jazz_rank.csv')\n",
    "kings_rank = pd.read_csv('/Users/gongzichen/Desktop/school materials/yale/1st year/CPSC537/assignment/final project/ConferenceRank/kings_rank.csv')\n",
    "lakers_rank = pd.read_csv('/Users/gongzichen/Desktop/school materials/yale/1st year/CPSC537/assignment/final project/ConferenceRank/lakers_rank.csv')\n",
    "mavericks_rank = pd.read_csv('/Users/gongzichen/Desktop/school materials/yale/1st year/CPSC537/assignment/final project/ConferenceRank/mavericks_rank.csv')\n",
    "nuggets_rank = pd.read_csv('/Users/gongzichen/Desktop/school materials/yale/1st year/CPSC537/assignment/final project/ConferenceRank/nuggets_rank.csv')\n",
    "pelicans_rank = pd.read_csv('/Users/gongzichen/Desktop/school materials/yale/1st year/CPSC537/assignment/final project/ConferenceRank/pelicans_rank.csv')\n",
    "rockets_rank = pd.read_csv('/Users/gongzichen/Desktop/school materials/yale/1st year/CPSC537/assignment/final project/ConferenceRank/rockets_rank.csv')\n",
    "spurs_rank = pd.read_csv('/Users/gongzichen/Desktop/school materials/yale/1st year/CPSC537/assignment/final project/ConferenceRank/spurs_rank.csv')\n",
    "suns_rank = pd.read_csv('/Users/gongzichen/Desktop/school materials/yale/1st year/CPSC537/assignment/final project/ConferenceRank/suns_rank.csv')\n",
    "thunder_rank = pd.read_csv('/Users/gongzichen/Desktop/school materials/yale/1st year/CPSC537/assignment/final project/ConferenceRank/thunder_rank.csv')\n",
    "timberwolves_rank = pd.read_csv('/Users/gongzichen/Desktop/school materials/yale/1st year/CPSC537/assignment/final project/ConferenceRank/timberwolves_rank.csv')\n",
    "warriors_rank = pd.read_csv('/Users/gongzichen/Desktop/school materials/yale/1st year/CPSC537/assignment/final project/ConferenceRank/warriors_rank.csv')"
   ]
  },
  {
   "cell_type": "code",
   "execution_count": 4,
   "id": "6d8576cc",
   "metadata": {},
   "outputs": [],
   "source": [
    "blazers_rank.columns = new_column_names\n",
    "clippers_rank.columns = new_column_names\n",
    "grizzlies_rank.columns = new_column_names\n",
    "jazz_rank.columns = new_column_names\n",
    "kings_rank.columns = new_column_names\n",
    "lakers_rank.columns = new_column_names\n",
    "mavericks_rank.columns = new_column_names\n",
    "nuggets_rank.columns = new_column_names\n",
    "pelicans_rank.columns = new_column_names\n",
    "rockets_rank.columns = new_column_names\n",
    "spurs_rank.columns = new_column_names\n",
    "suns_rank.columns = new_column_names\n",
    "thunder_rank.columns = new_column_names\n",
    "timberwolves_rank.columns = new_column_names\n",
    "warriors_rank.columns = new_column_names"
   ]
  },
  {
   "cell_type": "code",
   "execution_count": 5,
   "id": "523b8969",
   "metadata": {},
   "outputs": [],
   "source": [
    "blazers_rank.drop(columns=['Playoff_Record'], inplace=True)\n",
    "clippers_rank.drop(columns=['Playoff_Record'], inplace=True)\n",
    "grizzlies_rank.drop(columns=['Playoff_Record'], inplace=True)\n",
    "jazz_rank.drop(columns=['Playoff_Record'], inplace=True)\n",
    "kings_rank.drop(columns=['Playoff_Record'], inplace=True)\n",
    "lakers_rank.drop(columns=['Playoff_Record'], inplace=True)\n",
    "mavericks_rank.drop(columns=['Playoff_Record'], inplace=True)\n",
    "nuggets_rank.drop(columns=['Playoff_Record'], inplace=True)\n",
    "pelicans_rank.drop(columns=['Playoff_Record'], inplace=True)\n",
    "rockets_rank.drop(columns=['Playoff_Record'], inplace=True)\n",
    "spurs_rank.drop(columns=['Playoff_Record'], inplace=True)\n",
    "suns_rank.drop(columns=['Playoff_Record'], inplace=True)\n",
    "thunder_rank.drop(columns=['Playoff_Record'], inplace=True)\n",
    "timberwolves_rank.drop(columns=['Playoff_Record'], inplace=True)\n",
    "warriors_rank.drop(columns=['Playoff_Record'], inplace=True)"
   ]
  },
  {
   "cell_type": "code",
   "execution_count": 6,
   "id": "568f0065",
   "metadata": {},
   "outputs": [],
   "source": [
    "# Get the value from the first row of the 'Team' column\n",
    "clippers_first_row = clippers_rank['Team'].iloc[0]\n",
    "# Update all values in the 'Team' column to the value from the first row\n",
    "clippers_rank['Team'] = clippers_first_row"
   ]
  },
  {
   "cell_type": "code",
   "execution_count": 7,
   "id": "3d6c4640",
   "metadata": {},
   "outputs": [],
   "source": [
    "jazz_first_row = jazz_rank['Team'].iloc[0]\n",
    "jazz_rank['Team'] = jazz_first_row"
   ]
  },
  {
   "cell_type": "code",
   "execution_count": 8,
   "id": "36a4c838",
   "metadata": {},
   "outputs": [],
   "source": [
    "kings_first_row = kings_rank['Team'].iloc[0]\n",
    "kings_rank['Team'] = kings_first_row"
   ]
  },
  {
   "cell_type": "code",
   "execution_count": 9,
   "id": "22cc4155",
   "metadata": {},
   "outputs": [],
   "source": [
    "thunder_first_row = thunder_rank['Team'].iloc[0]\n",
    "thunder_rank['Team'] = thunder_first_row"
   ]
  },
  {
   "cell_type": "code",
   "execution_count": 10,
   "id": "201e6312",
   "metadata": {},
   "outputs": [],
   "source": [
    "pelicans_first_row = pelicans_rank['Team'].iloc[0]\n",
    "pelicans_rank['Team'] = pelicans_first_row"
   ]
  },
  {
   "cell_type": "code",
   "execution_count": 11,
   "id": "34055ba0",
   "metadata": {},
   "outputs": [],
   "source": [
    "blazers_rank.to_csv('blazers_rank.csv', index=False)\n",
    "clippers_rank.to_csv('clippers_rank.csv', index=False)\n",
    "grizzlies_rank.to_csv('grizzlies_rank.csv', index=False)\n",
    "jazz_rank.to_csv('jazz_rank.csv', index=False)\n",
    "kings_rank.to_csv('kings_rank.csv', index=False)\n",
    "lakers_rank.to_csv('lakers_rank.csv', index=False)\n",
    "mavericks_rank.to_csv('mavericks_rank.csv', index=False)\n",
    "nuggets_rank.to_csv('nuggets_rank.csv', index=False)\n",
    "pelicans_rank.to_csv('pelicans_rank.csv', index=False)\n",
    "rockets_rank.to_csv('rockets_rank.csv', index=False)\n",
    "spurs_rank.to_csv('spurs_rank.csv', index=False)\n",
    "suns_rank.to_csv('suns_rank.csv', index=False)\n",
    "thunder_rank.to_csv('thunder_rank.csv', index=False)\n",
    "timberwolves_rank.to_csv('timberwolves_rank.csv', index=False)\n",
    "warriors_rank.to_csv('warriors_rank.csv', index=False)"
   ]
  },
  {
   "cell_type": "code",
   "execution_count": 12,
   "id": "5e53ed44",
   "metadata": {},
   "outputs": [
    {
     "name": "stdout",
     "output_type": "stream",
     "text": [
      "                      Team  num_playoffs\n",
      "0   Portland Trail Blazers            40\n",
      "1              LA Clippers            19\n",
      "2        Memphis Grizzlies            12\n",
      "3                Utah Jazz            34\n",
      "4         Sacramento Kings            20\n",
      "5       Los Angeles Lakers            40\n",
      "6         Dallas Mavericks            26\n",
      "7           Denver Nuggets            32\n",
      "8     New Orleans Pelicans             7\n",
      "9          Houston Rockets            35\n",
      "10       San Antonio Spurs            39\n",
      "11            Phoenix Suns            33\n",
      "12   Oklahoma City Thunder            36\n",
      "13  Minnesota Timberwolves            12\n",
      "14   Golden State Warriors            23\n"
     ]
    }
   ],
   "source": [
    "ranks = [blazers_rank, clippers_rank, grizzlies_rank, jazz_rank, kings_rank,\n",
    "         lakers_rank, mavericks_rank, nuggets_rank, pelicans_rank, rockets_rank,\n",
    "         spurs_rank, suns_rank, thunder_rank, timberwolves_rank, warriors_rank]\n",
    "\n",
    "playoffs = pd.DataFrame({'Team': [df['Team'].iloc[0] for df in ranks],\n",
    "                         'num_playoffs': [len(df) for df in ranks]})\n",
    "\n",
    "print(playoffs)"
   ]
  },
  {
   "cell_type": "code",
   "execution_count": 13,
   "id": "c52b19df",
   "metadata": {},
   "outputs": [],
   "source": [
    "playoffs.to_csv('playoffs.csv', index=False)"
   ]
  },
  {
   "cell_type": "code",
   "execution_count": null,
   "id": "5ebdbc2f",
   "metadata": {},
   "outputs": [],
   "source": []
  }
 ],
 "metadata": {
  "kernelspec": {
   "display_name": "Python 3 (ipykernel)",
   "language": "python",
   "name": "python3"
  },
  "language_info": {
   "codemirror_mode": {
    "name": "ipython",
    "version": 3
   },
   "file_extension": ".py",
   "mimetype": "text/x-python",
   "name": "python",
   "nbconvert_exporter": "python",
   "pygments_lexer": "ipython3",
   "version": "3.9.13"
  }
 },
 "nbformat": 4,
 "nbformat_minor": 5
}
